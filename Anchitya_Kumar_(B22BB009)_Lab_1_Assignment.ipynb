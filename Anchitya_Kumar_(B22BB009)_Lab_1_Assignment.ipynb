{
  "nbformat": 4,
  "nbformat_minor": 0,
  "metadata": {
    "colab": {
      "provenance": [],
      "gpuType": "T4",
      "include_colab_link": true
    },
    "kernelspec": {
      "name": "python3",
      "display_name": "Python 3"
    },
    "language_info": {
      "name": "python"
    },
    "accelerator": "GPU"
  },
  "cells": [
    {
      "cell_type": "markdown",
      "metadata": {
        "id": "view-in-github",
        "colab_type": "text"
      },
      "source": [
        "<a href=\"https://colab.research.google.com/github/Anchit-2002/CSL4020-Deep-Learning-Lab-Submissions-/blob/main/Anchitya_Kumar_(B22BB009)_Lab_1_Assignment.ipynb\" target=\"_parent\"><img src=\"https://colab.research.google.com/assets/colab-badge.svg\" alt=\"Open In Colab\"/></a>"
      ]
    },
    {
      "cell_type": "markdown",
      "source": [
        "# **Assignment-1**"
      ],
      "metadata": {
        "id": "L4wG1O-fOmYG"
      }
    },
    {
      "cell_type": "markdown",
      "source": [
        "Assignment\n",
        "Implement an MLP using PyTorch for the Classification of the MNIST Dataset. Preprocess the dataset by reshaping each image into a 1D vector, then apply transforms such as rotation, scaling, etc. Build the MLP with dropout and batch normalization layers to improve generalization. Implement a custom weight initialization function for the network. Report accuracy, and loss, and analyze the impact of custom regularization on overfitting. Additionally, it reports precision, recall, and F1-score, and generates a confusion matrix for the test results. Perform hyperparameter tuning to optimize the model's performance.\n"
      ],
      "metadata": {
        "id": "Jce-1VRPOriu"
      }
    },
    {
      "cell_type": "code",
      "source": [
        "import torch\n",
        "import torch.nn as nn\n",
        "import torch.optim as optim\n",
        "from torch.utils.data import DataLoader\n",
        "from torchvision import datasets, transforms\n",
        "from sklearn.metrics import precision_score, recall_score, f1_score, confusion_matrix\n",
        "import matplotlib.pyplot as plt\n",
        "import seaborn as sns\n",
        "import numpy as np\n",
        "from tensorflow.keras.datasets import mnist\n",
        "import torch.optim as optim\n",
        "from sklearn.model_selection import ParameterGrid"
      ],
      "metadata": {
        "id": "iIZL8BNqQZ1B"
      },
      "execution_count": null,
      "outputs": []
    },
    {
      "cell_type": "code",
      "execution_count": null,
      "metadata": {
        "id": "_YG1EPrK4uFu",
        "colab": {
          "base_uri": "https://localhost:8080/",
          "height": 300
        },
        "outputId": "676f2a74-21cf-482d-892b-1447fbfbd75d"
      },
      "outputs": [
        {
          "output_type": "stream",
          "name": "stdout",
          "text": [
            "Display of Train and Test sample size:\n",
            "\n",
            "\n",
            "-------------->\n",
            "\n",
            "X_train: (60000, 28, 28)\n",
            "Y_train: (60000,)\n",
            "X_test:  (10000, 28, 28)\n",
            "Y_test:  (10000,)\n",
            "\n",
            "-------------->\n",
            "\n"
          ]
        },
        {
          "output_type": "display_data",
          "data": {
            "text/plain": [
              "<Figure size 640x480 with 1 Axes>"
            ],
            "image/png": "[encoded data removed]"
          },
          "metadata": {}
        }
      ],
      "source": [
        "# Loading Mnist dataset\n",
        "mnist_data = mnist.load_data()\n",
        "\n",
        "#loading of dataset\n",
        "(train_X, train_y), (test_X, test_y) = mnist.load_data()\n",
        "\n",
        "\n",
        "print('Display of Train and Test sample size:\\n')\n",
        "print('\\n-------------->\\n')\n",
        "\n",
        "#shape of dataset\n",
        "print('X_train: ' + str(train_X.shape))\n",
        "print('Y_train: ' + str(train_y.shape))\n",
        "print('X_test:  '  + str(test_X.shape))\n",
        "print('Y_test:  '  + str(test_y.shape))\n",
        "\n",
        "print('\\n-------------->\\n')\n",
        "\n",
        "# Update to horizontal stacking\n",
        "stacked_images = np.hstack([train_X[i] for i in range(9)])\n",
        "\n",
        "# Display the stacked images\n",
        "plt.imshow(stacked_images, cmap='gray')\n",
        "plt.axis('off')  # Remove axes for a clean display\n",
        "plt.show()\n",
        "\n"
      ]
    },
    {
      "cell_type": "code",
      "source": [
        "# Check Cuda Compatability\n",
        "if torch.cuda.is_available():\n",
        "    print(\"GPU is available!\")\n",
        "    print(f\"Using GPU: {torch.cuda.get_device_name(0)}\")\n",
        "else:\n",
        "    print(\"GPU not available. Using CPU.\")"
      ],
      "metadata": {
        "colab": {
          "base_uri": "https://localhost:8080/"
        },
        "id": "KJV1nV0EcsHj",
        "outputId": "2d528a13-e8f0-4684-95d6-b051bc605b24"
      },
      "execution_count": null,
      "outputs": [
        {
          "output_type": "stream",
          "name": "stdout",
          "text": [
            "GPU is available!\n",
            "Using GPU: Tesla T4\n"
          ]
        }
      ]
    },
    {
      "cell_type": "code",
      "source": [
        "# Tranformations in dataset\n",
        "transform_data= transforms.Compose([\n",
        "    transforms.RandomRotation(10),\n",
        "    transforms.RandomAffine(0, scale=(0.8, 1.2)),\n",
        "    transforms.ToTensor(),\n",
        "    transforms.Normalize((0.5,), (0.5,))\n",
        "\n",
        "])\n"
      ],
      "metadata": {
        "id": "LqkGAYB0QgEo"
      },
      "execution_count": null,
      "outputs": []
    },
    {
      "cell_type": "code",
      "source": [
        "# Load MNIST dataset with training and test splits\n",
        "train_dataset = datasets.MNIST(root='./data', train=True, download=True, transform=transform_data)\n",
        "test_dataset = datasets.MNIST(root='./data', train=False, download=True, transform=transform_data)\n",
        "\n",
        "# use dataloader for batching and shuffling\n",
        "train_loader = DataLoader(train_dataset, batch_size=64, shuffle=True)\n",
        "test_loader = DataLoader(test_dataset, batch_size=64, shuffle=False)"
      ],
      "metadata": {
        "id": "MyW2cxY1fc5G"
      },
      "execution_count": null,
      "outputs": []
    },
    {
      "cell_type": "code",
      "source": [
        "print(train_dataset)\n",
        "print('\\n----------->\\n')\n",
        "print(test_dataset)"
      ],
      "metadata": {
        "colab": {
          "base_uri": "https://localhost:8080/"
        },
        "id": "Wt0ntJJufGik",
        "outputId": "22dcb139-ec82-48a7-fd16-b30ce6a6ec64"
      },
      "execution_count": null,
      "outputs": [
        {
          "output_type": "stream",
          "name": "stdout",
          "text": [
            "Dataset MNIST\n",
            "    Number of datapoints: 60000\n",
            "    Root location: ./data\n",
            "    Split: Train\n",
            "    StandardTransform\n",
            "Transform: Compose(\n",
            "               RandomRotation(degrees=[-10.0, 10.0], interpolation=nearest, expand=False, fill=0)\n",
            "               RandomAffine(degrees=[0.0, 0.0], scale=(0.8, 1.2))\n",
            "               ToTensor()\n",
            "               Normalize(mean=(0.5,), std=(0.5,))\n",
            "           )\n",
            "\n",
            "----------->\n",
            "\n",
            "Dataset MNIST\n",
            "    Number of datapoints: 10000\n",
            "    Root location: ./data\n",
            "    Split: Test\n",
            "    StandardTransform\n",
            "Transform: Compose(\n",
            "               RandomRotation(degrees=[-10.0, 10.0], interpolation=nearest, expand=False, fill=0)\n",
            "               RandomAffine(degrees=[0.0, 0.0], scale=(0.8, 1.2))\n",
            "               ToTensor()\n",
            "               Normalize(mean=(0.5,), std=(0.5,))\n",
            "           )\n"
          ]
        }
      ]
    },
    {
      "cell_type": "markdown",
      "source": [
        "**Define MLP Model Architecture**"
      ],
      "metadata": {
        "id": "QY-FyM82hd_9"
      }
    },
    {
      "cell_type": "code",
      "source": [
        "class MLP(nn.Module):\n",
        "    def __init__(self, input_size=28*28, hidden_size=128, output_size=10):\n",
        "        super(MLP, self).__init__()\n",
        "        self.fc1 = nn.Linear(input_size, hidden_size)\n",
        "        self.fc2 = nn.Linear(hidden_size, hidden_size)\n",
        "        self.fc3 = nn.Linear(hidden_size, output_size)\n",
        "        self.dropout = nn.Dropout(0.5)\n",
        "        self.batch_norm = nn.BatchNorm1d(hidden_size)\n",
        "\n",
        "        # Custom weight initialization\n",
        "        self._initialize_weights()\n",
        "\n",
        "    def _initialize_weights(self):\n",
        "        nn.init.xavier_uniform_(self.fc1.weight)\n",
        "        nn.init.xavier_uniform_(self.fc2.weight)\n",
        "        nn.init.xavier_uniform_(self.fc3.weight)\n",
        "\n",
        "    def forward(self, x):\n",
        "        x = x.view(-1, 28*28)  # Flatten image\n",
        "        x = torch.relu(self.fc1(x))\n",
        "        x = self.batch_norm(x)\n",
        "        x = self.dropout(x)\n",
        "        x = torch.relu(self.fc2(x))\n",
        "        x = self.fc3(x)\n",
        "        return x\n",
        "\n"
      ],
      "metadata": {
        "id": "F9dpJxx3gn9t"
      },
      "execution_count": null,
      "outputs": []
    },
    {
      "cell_type": "code",
      "source": [
        "# Intialize the loss Function and optimizer\n",
        "model = MLP()\n",
        "criterion = nn.CrossEntropyLoss()\n",
        "optimizer = optim.Adam(model.parameters(), lr=0.001)\n"
      ],
      "metadata": {
        "id": "4cd_3TYa95vT"
      },
      "execution_count": null,
      "outputs": []
    },
    {
      "cell_type": "markdown",
      "source": [
        "**Model Training**"
      ],
      "metadata": {
        "id": "a50ArMmDs3p8"
      }
    },
    {
      "cell_type": "code",
      "source": [
        "def train_model(model, train_loader, criterion, optimizer, epochs=10):\n",
        "    model.train()\n",
        "    for epoch in range(epochs):\n",
        "        Total_loss = 0.0\n",
        "        correct = 0\n",
        "        total = 0\n",
        "        for inputs, labels in train_loader:\n",
        "            # Forward pass\n",
        "            outputs = model(inputs)\n",
        "\n",
        "            # Calculate loss\n",
        "            loss = criterion(outputs, labels)\n",
        "\n",
        "            # Back pass\n",
        "            optimizer.zero_grad()\n",
        "            loss.backward()\n",
        "\n",
        "            # Update grads\n",
        "            optimizer.step()\n",
        "\n",
        "            # loss during each epoch\n",
        "            Total_loss += loss.item()\n",
        "            _, predicted = torch.max(outputs, 1)\n",
        "            total += labels.size(0)\n",
        "            correct += (predicted == labels).sum().item()\n",
        "\n",
        "        accuracy = 100 * correct / total\n",
        "        print(f\"Epoch {epoch+1}/{epochs}, Loss: {Total_loss/len(train_loader):.4f}, Accuracy: {accuracy:.2f}%\")\n"
      ],
      "metadata": {
        "id": "w1ikLlZM-gOZ"
      },
      "execution_count": null,
      "outputs": []
    },
    {
      "cell_type": "markdown",
      "source": [
        "**Model Evaluation**"
      ],
      "metadata": {
        "id": "d-PHSymBs8oU"
      }
    },
    {
      "cell_type": "code",
      "source": [
        "def evaluate_model(model, test_loader):\n",
        "   #set to evaluation mode\n",
        "    model.eval()\n",
        "    all_preds = []\n",
        "    all_labels = []\n",
        "\n",
        "    with torch.no_grad(): # no calculation of gradients during testing\n",
        "        for inputs,labels in test_loader:\n",
        "            outputs = model(inputs)\n",
        "            _, predicted = torch.max(outputs, 1)\n",
        "\n",
        "            all_preds.append(predicted.numpy())\n",
        "            all_labels.append(labels.numpy())\n",
        "\n",
        "    return all_labels, all_preds\n"
      ],
      "metadata": {
        "id": "XsTia9E1-kEg"
      },
      "execution_count": null,
      "outputs": []
    },
    {
      "cell_type": "code",
      "source": [
        "def report_metrics(y_true, y_pred):\n",
        "    precision = precision_score(y_true, y_pred, average='macro')\n",
        "    recall = recall_score(y_true, y_pred, average='macro')\n",
        "    f1 = f1_score(y_true, y_pred, average='macro')\n",
        "\n",
        "    print(f\"Precision: {precision:.4f}\")\n",
        "    print(f\"Recall: {recall:.4f}\")\n",
        "    print(f\"F1-score: {f1:.4f}\")\n",
        "\n",
        "    cm = confusion_matrix(y_true, y_pred)\n",
        "\n",
        "    # plot the confusion matrix\n",
        "    plt.figure(figsize=(8, 6))\n",
        "    sns.heatmap(cm, annot=True, fmt='d', cmap='Blues', xticklabels=np.arange(10), yticklabels=np.arange(10))\n",
        "    plt.title(\"Confusion Matrix\")\n",
        "    plt.xlabel('Predicted')\n",
        "    plt.ylabel('Actual')\n",
        "    plt.show()\n"
      ],
      "metadata": {
        "id": "0FP6ZzQz-wJS"
      },
      "execution_count": null,
      "outputs": []
    },
    {
      "cell_type": "code",
      "source": [
        "train_model(model, train_loader, criterion, optimizer, epochs=10)\n",
        "y_true, y_pred = evaluate_model(model, test_loader)\n",
        "\n"
      ],
      "metadata": {
        "colab": {
          "base_uri": "https://localhost:8080/"
        },
        "id": "8fKClZ6L-w8T",
        "outputId": "340fb172-f66f-43ff-8fdc-e522a254df1d"
      },
      "execution_count": null,
      "outputs": [
        {
          "output_type": "stream",
          "name": "stdout",
          "text": [
            "Epoch 1/10, Loss: 0.6008, Accuracy: 81.26%\n",
            "Epoch 2/10, Loss: 0.4225, Accuracy: 86.98%\n",
            "Epoch 3/10, Loss: 0.3693, Accuracy: 88.55%\n",
            "Epoch 4/10, Loss: 0.3510, Accuracy: 89.19%\n",
            "Epoch 5/10, Loss: 0.3389, Accuracy: 89.51%\n",
            "Epoch 6/10, Loss: 0.3250, Accuracy: 89.86%\n",
            "Epoch 7/10, Loss: 0.3218, Accuracy: 89.94%\n",
            "Epoch 8/10, Loss: 0.3164, Accuracy: 90.12%\n",
            "Epoch 9/10, Loss: 0.3057, Accuracy: 90.49%\n",
            "Epoch 10/10, Loss: 0.2950, Accuracy: 90.83%\n"
          ]
        }
      ]
    },
    {
      "cell_type": "code",
      "source": [
        "# Flatten y_true and y_pred\n",
        "y_true = np.concatenate(y_true)\n",
        "y_pred = np.concatenate(y_pred)\n",
        "\n",
        "report_metrics(y_true, y_pred)"
      ],
      "metadata": {
        "colab": {
          "base_uri": "https://localhost:8080/",
          "height": 616
        },
        "id": "G4RnvRo5EKcS",
        "outputId": "5ebb9d0c-3b94-4e50-ea30-c4d9ca8d919d"
      },
      "execution_count": null,
      "outputs": [
        {
          "output_type": "stream",
          "name": "stdout",
          "text": [
            "Precision: 0.9480\n",
            "Recall: 0.9476\n",
            "F1-score: 0.9476\n"
          ]
        },
        {
          "output_type": "display_data",
          "data": {
            "text/plain": [
              "<Figure size 800x600 with 2 Axes>"
            ],
            "image/png": "[encoded data removed]"
          },
          "metadata": {}
        }
      ]
    },
    {
      "cell_type": "markdown",
      "source": [
        "**Hyperprameter Tuning**"
      ],
      "metadata": {
        "id": "CKGK-2EckrSE"
      }
    },
    {
      "cell_type": "code",
      "source": [
        "# Define a function for hyperparameter tuning\n",
        "def hyperparameter_tuning(train_loader, param_grid):\n",
        "    best_model = None\n",
        "    best_accuracy = 0\n",
        "    best_params = None\n",
        "\n",
        "    for params in ParameterGrid(param_grid):\n",
        "        # Initialize the model, loss function, and optimizer\n",
        "        model = MLP(input_size=28*28, hidden_size=params['hidden_size'], output_size=10)\n",
        "        criterion = nn.CrossEntropyLoss()\n",
        "        optimizer = optim.SGD(model.parameters(), lr=params['lr'], momentum=params['momentum'])\n",
        "\n",
        "        # Train the model\n",
        "        train_model(model, train_loader, criterion, optimizer, params['epochs'])\n",
        "\n",
        "        # Evaluate the model\n",
        "        correct = 0\n",
        "        total = 0\n",
        "        model.eval()\n",
        "        with torch.no_grad():\n",
        "            for images, labels in train_loader:\n",
        "                outputs = model(images)\n",
        "                _, predicted = torch.max(outputs, 1)\n",
        "                total += labels.size(0)\n",
        "                correct += (predicted == labels).sum().item()\n",
        "\n",
        "        accuracy = 100 * correct / total\n",
        "        print(f\"Params: {params}, Accuracy: {accuracy:.2f}%\")\n",
        "\n",
        "        # Save the best model\n",
        "        if accuracy > best_accuracy:\n",
        "            best_accuracy = accuracy\n",
        "            best_model = model\n",
        "            best_params = params\n",
        "\n",
        "    print(f\"Best Params: {best_params}, Best Accuracy: {best_accuracy:.2f}%\")\n",
        "    return best_model, best_params\n",
        "\n"
      ],
      "metadata": {
        "id": "nqZIMO0xjXIF"
      },
      "execution_count": null,
      "outputs": []
    }
  ]
}